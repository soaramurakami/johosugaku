{
  "nbformat": 4,
  "nbformat_minor": 0,
  "metadata": {
    "colab": {
      "name": "ichiji_p.ipynb",
      "provenance": [],
      "collapsed_sections": [],
      "toc_visible": true,
      "authorship_tag": "ABX9TyPOvc8QPNNnpd2z86PrHcas",
      "include_colab_link": true
    },
    "kernelspec": {
      "name": "python3",
      "display_name": "Python 3"
    },
    "language_info": {
      "name": "python"
    }
  },
  "cells": [
    {
      "cell_type": "markdown",
      "metadata": {
        "id": "view-in-github",
        "colab_type": "text"
      },
      "source": [
        "<a href=\"https://colab.research.google.com/github/soaramurakami/johosugaku/blob/main/ichiji_p.ipynb\" target=\"_parent\"><img src=\"https://colab.research.google.com/assets/colab-badge.svg\" alt=\"Open In Colab\"/></a>"
      ]
    },
    {
      "cell_type": "markdown",
      "source": [
        "ax+by=1についての一次不定方程式\n"
      ],
      "metadata": {
        "id": "DQfZKlGNw79C"
      }
    },
    {
      "cell_type": "code",
      "source": [
        "print(\"ax+by=1について解くプログラム\")\n",
        "a = []#ユークリッドの互除法のためのリスト\n",
        "b = []\n",
        "q = []\n",
        "r = []\n",
        "x = []\n",
        "y = []\n",
        "#a = 1537\n",
        "#b = 1457\n",
        "i = 0 #リストの先頭を表す\n",
        "a.append (int(input(\"a=\"))) #aの値代入\n",
        "b.append (int(input(\"b=\"))) #bの値代入\n",
        "\n",
        "q.append (a[i] // b[i])  #商を求める＆リストに追加\n",
        "r.append (a[i] % b[i])   #余りを求める＆リストに追加\n",
        "print(\"ユークリッドの互除法を使ってあらわす\")\n",
        "print(\"(\",i,\")\",a[i],\"=\",b[i],\"*\",q[i],\"+\",r[i])   #ユークリッドの互除法の出力①\n",
        "\n",
        "while r[i] != 0:\n",
        "  i += 1\n",
        "  a.append(b[i-1])\n",
        "  b.append(r[i-1])\n",
        "  q.append(a[i] // b[i])\n",
        "  r.append(a[i] % b[i])\n",
        "  \n",
        "  print(\"(\",i,\")\",a[i],\"=\",b[i],\"*\",q[i],\"+\",r[i])  #ユークリッドの互除法の出力②\n",
        "  \n",
        "\n",
        "j = i\n",
        "print()\n",
        "print(\"変形してあらわす\")   #余り＝　の形に変形＆逆順に並べる\n",
        "\n",
        "while j != 0:  \n",
        "  j -= 1\n",
        "  print(\"(\",j,\")\",r[j],\"=\",a[j],\"-\",b[j],\"*\",q[j])\n",
        "print()\n",
        "\n",
        "x = [\"\"]*i       #一次不定方程式を解く\n",
        "y = [\"\"]*i\n",
        "\n",
        "i -= 1\n",
        "x[i] = 1\n",
        "y[i] = -q[i]\n",
        "\n",
        "print(\"一次不定方程式について解く\")\n",
        "print(\"1=(\",x[i],\")*\",a[i],\"+\",\"(\",y[i],\")*\",b[i])    #一次不定式の出力①\n",
        "  \n",
        "while i != 0:\n",
        "  i -= 1\n",
        "  x[i] = y[i+1]\n",
        "  y[i] = (1-x[i]*a[i])//b[i]\n",
        "  print(\" =(\",x[i],\")*\",a[i],\"+\",\"(\",y[i],\")*\",b[i])  #一次不定式の出力②\n",
        "\n",
        "print()\n",
        "print(\"よって答えは\")\n",
        "print(\"x=\",x[i],\"+\",b[i],\"*t\")   #答え出力\n",
        "print(\"y=\",y[i],\"-\",a[i],\"*t\")\n",
        "\n",
        "\n",
        "\n"
      ],
      "metadata": {
        "colab": {
          "base_uri": "https://localhost:8080/"
        },
        "id": "6Pa61nK90dqC",
        "outputId": "08663152-31b4-4686-f343-cbff3e5d10ff"
      },
      "execution_count": null,
      "outputs": [
        {
          "output_type": "stream",
          "name": "stdout",
          "text": [
            "ax+by=1について解くプログラム\n",
            "a=120\n",
            "b=77\n",
            "ユークリッドの互除法を使ってあらわす\n",
            "( 0 ) 120 = 77 * 1 + 43\n",
            "( 1 ) 77 = 43 * 1 + 34\n",
            "( 2 ) 43 = 34 * 1 + 9\n",
            "( 3 ) 34 = 9 * 3 + 7\n",
            "( 4 ) 9 = 7 * 1 + 2\n",
            "( 5 ) 7 = 2 * 3 + 1\n",
            "( 6 ) 2 = 1 * 2 + 0\n",
            "\n",
            "変形してあらわす\n",
            "( 5 ) 1 = 7 - 2 * 3\n",
            "( 4 ) 2 = 9 - 7 * 1\n",
            "( 3 ) 7 = 34 - 9 * 3\n",
            "( 2 ) 9 = 43 - 34 * 1\n",
            "( 1 ) 34 = 77 - 43 * 1\n",
            "( 0 ) 43 = 120 - 77 * 1\n",
            "\n",
            "一次不定方程式について解く\n",
            "1=( 1 )* 7 + ( -3 )* 2\n",
            " =( -3 )* 9 + ( 4 )* 7\n",
            " =( 4 )* 34 + ( -15 )* 9\n",
            " =( -15 )* 43 + ( 19 )* 34\n",
            " =( 19 )* 77 + ( -34 )* 43\n",
            " =( -34 )* 120 + ( 53 )* 77\n",
            "\n",
            "よって答えは\n",
            "x= -34 + 77 *t\n",
            "y= 53 - 120 *t\n"
          ]
        }
      ]
    }
  ]
}
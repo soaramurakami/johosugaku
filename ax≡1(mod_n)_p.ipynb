{
  "nbformat": 4,
  "nbformat_minor": 0,
  "metadata": {
    "colab": {
      "name": "ax≡1(mod n)_p.ipynb",
      "provenance": [],
      "collapsed_sections": [],
      "authorship_tag": "ABX9TyPE6bmI91LRN9IaQSJR96rS",
      "include_colab_link": true
    },
    "kernelspec": {
      "name": "python3",
      "display_name": "Python 3"
    },
    "language_info": {
      "name": "python"
    }
  },
  "cells": [
    {
      "cell_type": "markdown",
      "metadata": {
        "id": "view-in-github",
        "colab_type": "text"
      },
      "source": [
        "<a href=\"https://colab.research.google.com/github/soaramurakami/johosugaku/blob/main/ax%E2%89%A11(mod_n)_p.ipynb\" target=\"_parent\"><img src=\"https://colab.research.google.com/assets/colab-badge.svg\" alt=\"Open In Colab\"/></a>"
      ]
    },
    {
      "cell_type": "markdown",
      "source": [
        "ax≡１を求めるプログラム"
      ],
      "metadata": {
        "id": "YNpD1euDlaIV"
      }
    },
    {
      "cell_type": "code",
      "source": [
        "print(\"ax≡1(mod N)について解く\")\n",
        "a = []#ユークリッドの互除法のためのリスト\n",
        "b = []\n",
        "q = []\n",
        "r = []\n",
        "#a = 1537\n",
        "#N = 1457\n",
        "i = 0 #リストの先頭を表す\n",
        "a.append (int(input(\"a=\"))) #aの値代入\n",
        "b.append (int(input(\"N=\"))) #bの値代入\n",
        "\n",
        "print(a[0],\"x≡1(mod \",b[i],\")\")\n",
        "print(a[i],\"x-\",b[i],\"k=1\")\n",
        "print(a[i],\"x+\",b[i],\"y=1(y=-k)\")\n",
        "q.append (a[i] // b[i])  #商を求める＆リストに追加\n",
        "r.append (a[i] % b[i])   #余りを求める＆リストに追加\n",
        "print(\"ユークリッドの互除法を使ってあらわす\")\n",
        "print(\"(\",i,\")\",a[i],\"=\",b[i],\"*\",q[i],\"+\",r[i])   #ユークリッドの互除法の出力①\n",
        "\n",
        "while r[i] != 0:\n",
        "  i += 1\n",
        "  a.append(b[i-1])\n",
        "  b.append(r[i-1])\n",
        "  q.append(a[i] // b[i])\n",
        "  r.append(a[i] % b[i])\n",
        "  \n",
        "  print(\"(\",i,\")\",a[i],\"=\",b[i],\"*\",q[i],\"+\",r[i])  #ユークリッドの互除法の出力②\n",
        "  \n",
        "\n",
        "\n",
        "\n",
        "x = [\"\"]*i       #一次不定方程式を解く\n",
        "y = [\"\"]*i\n",
        "\n",
        "i -= 1\n",
        "x[i] = 1\n",
        "y[i] = -q[i]\n",
        "\n",
        "print(\"一次不定方程式について解く\")\n",
        "print(\"1=(\",x[i],\")*\",a[i],\"+\",\"(\",y[i],\")*\",b[i])    #一次不定式の出力①\n",
        "  \n",
        "while i != 0:\n",
        "  i -= 1\n",
        "  x[i] = y[i+1]\n",
        "  y[i] = (1-x[i]*a[i])//b[i]\n",
        "  print(\" =(\",x[i],\")*\",a[i],\"+\",\"(\",y[i],\")*\",b[i])  #一次不定式の出力②\n",
        "\n",
        "print()\n",
        "print(\"よって答えは\")\n",
        "print(\"x≡\",x[i],\"(y≡\",y[i],\")\")\n",
        "print(\"mod(\",b[0],\")\")\n"
      ],
      "metadata": {
        "colab": {
          "base_uri": "https://localhost:8080/"
        },
        "id": "c7n6ENYhlkns",
        "outputId": "41b8f5a0-63e6-401b-98c6-c975f35efefb"
      },
      "execution_count": null,
      "outputs": [
        {
          "output_type": "stream",
          "name": "stdout",
          "text": [
            "ax≡1(mod N)について解く\n",
            "a=7\n",
            "N=24\n",
            "7 x≡1(mod  24 )\n",
            "7 x- 24 k=1\n",
            "7 x+ 24 y=1(y=-k)\n",
            "ユークリッドの互除法を使ってあらわす\n",
            "( 0 ) 7 = 24 * 0 + 7\n",
            "( 1 ) 24 = 7 * 3 + 3\n",
            "( 2 ) 7 = 3 * 2 + 1\n",
            "( 3 ) 3 = 1 * 3 + 0\n",
            "一次不定方程式について解く\n",
            "1=( 1 )* 7 + ( -2 )* 3\n",
            " =( -2 )* 24 + ( 7 )* 7\n",
            " =( 7 )* 7 + ( -2 )* 24\n",
            "\n",
            "よって答えは\n",
            "x≡ 7 (y≡ -2 )\n",
            "mod( 24 )\n"
          ]
        }
      ]
    }
  ]
}
{
  "cells": [
    {
      "cell_type": "markdown",
      "metadata": {
        "id": "view-in-github",
        "colab_type": "text"
      },
      "source": [
        "<a href=\"https://colab.research.google.com/github/soaramurakami/johosugaku/blob/main/gyaku_p.ipynb\" target=\"_parent\"><img src=\"https://colab.research.google.com/assets/colab-badge.svg\" alt=\"Open In Colab\"/></a>"
      ]
    },
    {
      "cell_type": "markdown",
      "metadata": {
        "id": "ymuqVgr0YBeT"
      },
      "source": [
        "逆行列を求めるプログラム"
      ]
    },
    {
      "cell_type": "code",
      "execution_count": null,
      "metadata": {
        "colab": {
          "base_uri": "https://localhost:8080/"
        },
        "id": "JZl6HpF6pkEC",
        "outputId": "8c3ea544-1d1b-4a40-d833-1dc8c998757a"
      },
      "outputs": [
        {
          "output_type": "stream",
          "name": "stdout",
          "text": [
            "| a1 a2 |\n",
            "| a3 a4 |(mod N)\n",
            "の逆行列を求めるプログラム\n",
            "a1=2\n",
            "a2=3\n",
            "a3=7\n",
            "a4=8\n",
            "N=26\n",
            "| 2 3 |\n",
            "| 7 8 |\n",
            "mod( 26 )について解く\n",
            "\n",
            "21 x≡1(mod 26 )\n",
            "21 x- 26 k=1\n",
            "21 x+ 26 y=1として解く(y=-k)\n",
            "\n",
            "( 0 ) 26 = 21 * 1 + 5\n",
            "( 1 ) 21 = 5 * 4 + 1\n",
            "( 2 ) 5 = 1 * 5 + 0\n",
            "\n",
            "変形してあらわす\n",
            "( 1 ) 1 = 21 - 5 * 4\n",
            "( 0 ) 5 = 26 - 21 * 1\n",
            "\n",
            "一次不定方程式について解く\n",
            "1=( 1 )* 21 + ( -4 )* 5\n",
            " =( -4 )* 26 + ( 5 )* 21\n",
            "x≡ 5 (mod 26 )\n",
            "よって、A^-1は\n",
            "A^-1 ≡   5  × | 8 -3 |\n",
            "                | -7 2 |\n",
            "     ≡        | 40 -15 |\n",
            "               | -35 10 |\n",
            "     ≡        | 14 11 |\n",
            "               | 17 10 |(mod 26 )\n"
          ]
        }
      ],
      "source": [
        "#逆行列を求めるプログラム\n",
        "c=[]\n",
        "n=[]\n",
        "q=[]\n",
        "r=[]\n",
        "n=[]\n",
        "i=0\n",
        "print(\"| a1 a2 |\")\n",
        "print(\"| a3 a4 |(mod N)\")\n",
        "print(\"の逆行列を求めるプログラム\")\n",
        "\n",
        "a1=int(input(\"a1=\"))#行列の入力\n",
        "a2=int(input(\"a2=\"))\n",
        "a3=int(input(\"a3=\"))\n",
        "a4=int(input(\"a4=\"))\n",
        "N=int(input(\"N=\"))#何を法とするか\n",
        "\n",
        "\n",
        "print(\"|\",a1,a2,\"|\")\n",
        "print(\"|\",a3,a4,\"|\")\n",
        "print(\"mod(\",N,\")について解く\\n\")\n",
        "\n",
        "c1=a1*a4-a2*a3 #行列式を解く\n",
        "c.append(c1 % N)  #最小正剰余にする\n",
        "print(\"行列式は\"c\"です\")\n",
        "\n",
        "print(c[0],\"x≡1(mod\",N,\")\")\n",
        "print(c[0],\"x-\",N,\"k=1\")\n",
        "print(c[0],\"x+\",N,\"y=1として解く(y=-k)\\n\")\n",
        "\n",
        "q.append (N // c[i])  #商を求める＆リストに追加\n",
        "r.append (N % c[i])   #余りを求める＆リストに追加\n",
        "print(\"(\",i,\")\",N,\"=\",c[i],\"*\",q[i],\"+\",r[i])   #ユークリッドの互除法の出力①\n",
        "n.append(N)\n",
        "\n",
        "while r[i] != 0:\n",
        "  i += 1\n",
        "  n.append(c[i-1])\n",
        "  c.append(r[i-1])\n",
        "  q.append(n[i] // c[i])\n",
        "  r.append(n[i] % c[i])\n",
        "  \n",
        "  print(\"(\",i,\")\",n[i],\"=\",c[i],\"*\",q[i],\"+\",r[i])  #ユークリッドの互除法の出力②\n",
        "\n",
        "  j = i\n",
        "print()\n",
        "print(\"変形してあらわす\")   #余り＝　の形に変形＆逆順に並べる\n",
        "\n",
        "while j != 0:  \n",
        "  j -= 1\n",
        "  print(\"(\",j,\")\",r[j],\"=\",n[j],\"-\",c[j],\"*\",q[j])\n",
        "print()\n",
        "\n",
        "x = [\"\"]*i       #一次不定方程式を解く\n",
        "y = [\"\"]*i\n",
        "\n",
        "i -= 1\n",
        "x[i] = 1\n",
        "y[i] = -q[i]\n",
        "\n",
        "print(\"一次不定方程式について解く\")\n",
        "print(\"1=(\",x[i],\")*\",n[i],\"+\",\"(\",y[i],\")*\",c[i])    #一次不定式の出力①\n",
        "  \n",
        "while i != 0:\n",
        "  i -= 1\n",
        "  x[i] = y[i+1]\n",
        "  y[i] = (1-x[i]*n[i])//c[i]\n",
        "  print(\" =(\",x[i],\")*\",n[i],\"+\",\"(\",y[i],\")*\",c[i])  #一次不定式の出力②\n",
        "\n",
        "print(\"x≡\",y[i],\"(mod\",n[0],\")\")\n",
        "\n",
        "print(\"よって、A^-1は\")\n",
        "print(\"A^-1 ≡  \",y[i],\" × |\",a4,-a2,\"|\")#逆行列を求める\n",
        "print(\"                |\",-a3,a1,\"|\")\n",
        "b1=a4*y[i]\n",
        "b2=-a2*y[i]\n",
        "b3=-a3*y[i]\n",
        "b4=a1*y[i]\n",
        "print(\"     ≡        |\",b1,b2,\"|\")\n",
        "print(\"               |\",b3,b4,\"|\")\n",
        "print(\"     ≡        |\",b1%N,b2%N,\"|\")#答え\n",
        "print(\"               |\",b3%N,b4%N,\"|(mod\",N,\")\")\n",
        "\n"
      ]
    }
  ],
  "metadata": {
    "colab": {
      "collapsed_sections": [],
      "name": "gyaku_p.ipynb",
      "provenance": [],
      "authorship_tag": "ABX9TyP2vGNQlhyumxVafEnwHTcR",
      "include_colab_link": true
    },
    "kernelspec": {
      "display_name": "Python 3",
      "name": "python3"
    },
    "language_info": {
      "name": "python"
    }
  },
  "nbformat": 4,
  "nbformat_minor": 0
}